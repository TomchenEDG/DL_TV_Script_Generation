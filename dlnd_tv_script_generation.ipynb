{
 "cells": [
  {
   "cell_type": "markdown",
   "metadata": {},
   "source": [
    "# TV Script Generation\n",
    "In this project, you'll generate your own [Simpsons](https://en.wikipedia.org/wiki/The_Simpsons) TV scripts using RNNs.  You'll be using part of the [Simpsons dataset](https://www.kaggle.com/wcukierski/the-simpsons-by-the-data) of scripts from 27 seasons.  The Neural Network you'll build will generate a new TV script for a scene at [Moe's Tavern](https://simpsonswiki.com/wiki/Moe's_Tavern).\n",
    "## Get the Data\n",
    "The data is already provided for you.  You'll be using a subset of the original dataset.  It consists of only the scenes in Moe's Tavern.  This doesn't include other versions of the tavern, like \"Moe's Cavern\", \"Flaming Moe's\", \"Uncle Moe's Family Feed-Bag\", etc.."
   ]
  },
  {
   "cell_type": "code",
   "execution_count": 1,
   "metadata": {
    "collapsed": true
   },
   "outputs": [],
   "source": [
    "\"\"\"\n",
    "DON'T MODIFY ANYTHING IN THIS CELL\n",
    "\"\"\"\n",
    "import helper\n",
    "\n",
    "data_dir = './data/simpsons/moes_tavern_lines.txt'\n",
    "text = helper.load_data(data_dir)\n",
    "# Ignore notice, since we don't use it for analysing the data\n",
    "text = text[81:]"
   ]
  },
  {
   "cell_type": "markdown",
   "metadata": {},
   "source": [
    "## Explore the Data\n",
    "Play around with `view_sentence_range` to view different parts of the data."
   ]
  },
  {
   "cell_type": "code",
   "execution_count": 2,
   "metadata": {},
   "outputs": [
    {
     "name": "stdout",
     "output_type": "stream",
     "text": [
      "Dataset Stats\n",
      "Roughly the number of unique words: 11492\n",
      "Number of scenes: 262\n",
      "Average number of sentences in each scene: 15.248091603053435\n",
      "Number of lines: 4257\n",
      "Average number of words in each line: 11.50434578341555\n",
      "\n",
      "The sentences 0 to 10:\n",
      "Moe_Szyslak: (INTO PHONE) Moe's Tavern. Where the elite meet to drink.\n",
      "Bart_Simpson: Eh, yeah, hello, is Mike there? Last name, Rotch.\n",
      "Moe_Szyslak: (INTO PHONE) Hold on, I'll check. (TO BARFLIES) Mike Rotch. Mike Rotch. Hey, has anybody seen Mike Rotch, lately?\n",
      "Moe_Szyslak: (INTO PHONE) Listen you little puke. One of these days I'm gonna catch you, and I'm gonna carve my name on your back with an ice pick.\n",
      "Moe_Szyslak: What's the matter Homer? You're not your normal effervescent self.\n",
      "Homer_Simpson: I got my problems, Moe. Give me another one.\n",
      "Moe_Szyslak: Homer, hey, you should not drink to forget your problems.\n",
      "Barney_Gumble: Yeah, you should only drink to enhance your social skills.\n",
      "\n",
      "\n"
     ]
    }
   ],
   "source": [
    "view_sentence_range = (0, 10)\n",
    "\n",
    "\"\"\"\n",
    "DON'T MODIFY ANYTHING IN THIS CELL\n",
    "\"\"\"\n",
    "import numpy as np\n",
    "\n",
    "print('Dataset Stats')\n",
    "print('Roughly the number of unique words: {}'.format(len({word: None for word in text.split()})))\n",
    "scenes = text.split('\\n\\n')\n",
    "print('Number of scenes: {}'.format(len(scenes)))\n",
    "sentence_count_scene = [scene.count('\\n') for scene in scenes]\n",
    "print('Average number of sentences in each scene: {}'.format(np.average(sentence_count_scene)))\n",
    "\n",
    "sentences = [sentence for scene in scenes for sentence in scene.split('\\n')]\n",
    "print('Number of lines: {}'.format(len(sentences)))\n",
    "word_count_sentence = [len(sentence.split()) for sentence in sentences]\n",
    "print('Average number of words in each line: {}'.format(np.average(word_count_sentence)))\n",
    "\n",
    "print()\n",
    "print('The sentences {} to {}:'.format(*view_sentence_range))\n",
    "print('\\n'.join(text.split('\\n')[view_sentence_range[0]:view_sentence_range[1]]))"
   ]
  },
  {
   "cell_type": "markdown",
   "metadata": {},
   "source": [
    "## Implement Preprocessing Functions\n",
    "The first thing to do to any dataset is preprocessing.  Implement the following preprocessing functions below:\n",
    "- Lookup Table\n",
    "- Tokenize Punctuation\n",
    "\n",
    "### Lookup Table\n",
    "To create a word embedding, you first need to transform the words to ids.  In this function, create two dictionaries:\n",
    "- Dictionary to go from the words to an id, we'll call `vocab_to_int`\n",
    "- Dictionary to go from the id to word, we'll call `int_to_vocab`\n",
    "\n",
    "Return these dictionaries in the following tuple `(vocab_to_int, int_to_vocab)`"
   ]
  },
  {
   "cell_type": "code",
   "execution_count": 3,
   "metadata": {},
   "outputs": [
    {
     "name": "stdout",
     "output_type": "stream",
     "text": [
      "Tests Passed\n"
     ]
    }
   ],
   "source": [
    "import numpy as np\n",
    "import problem_unittests as tests\n",
    "from collections import Counter\n",
    "\n",
    "def create_lookup_tables(text):\n",
    "    \"\"\"\n",
    "    Create lookup tables for vocabulary\n",
    "    :param text: The text of tv scripts split into words\n",
    "    :return: A tuple of dicts (vocab_to_int, int_to_vocab)\n",
    "    \"\"\"\n",
    "    # TODO: Implement Function\n",
    "    vocab_to_int = {word:index for index, word in enumerate(set(text))}\n",
    "    int_to_vocab = {index:word for index, word in enumerate(set(text))}\n",
    "    return (vocab_to_int, int_to_vocab)\n",
    "\n",
    "\n",
    "\"\"\"\n",
    "DON'T MODIFY ANYTHING IN THIS CELL THAT IS BELOW THIS LINE\n",
    "\"\"\"\n",
    "tests.test_create_lookup_tables(create_lookup_tables)"
   ]
  },
  {
   "cell_type": "markdown",
   "metadata": {},
   "source": [
    "### Tokenize Punctuation\n",
    "We'll be splitting the script into a word array using spaces as delimiters.  However, punctuations like periods and exclamation marks make it hard for the neural network to distinguish between the word \"bye\" and \"bye!\".\n",
    "\n",
    "Implement the function `token_lookup` to return a dict that will be used to tokenize symbols like \"!\" into \"||Exclamation_Mark||\".  Create a dictionary for the following symbols where the symbol is the key and value is the token:\n",
    "- Period ( . )\n",
    "- Comma ( , )\n",
    "- Quotation Mark ( \" )\n",
    "- Semicolon ( ; )\n",
    "- Exclamation mark ( ! )\n",
    "- Question mark ( ? )\n",
    "- Left Parentheses ( ( )\n",
    "- Right Parentheses ( ) )\n",
    "- Dash ( -- )\n",
    "- Return ( \\n )\n",
    "\n",
    "This dictionary will be used to token the symbols and add the delimiter (space) around it.  This separates the symbols as it's own word, making it easier for the neural network to predict on the next word. Make sure you don't use a token that could be confused as a word. Instead of using the token \"dash\", try using something like \"||dash||\"."
   ]
  },
  {
   "cell_type": "code",
   "execution_count": 4,
   "metadata": {},
   "outputs": [
    {
     "name": "stdout",
     "output_type": "stream",
     "text": [
      "Tests Passed\n"
     ]
    }
   ],
   "source": [
    "def token_lookup():\n",
    "    \"\"\"\n",
    "    Generate a dict to turn punctuation into a token.\n",
    "    :return: Tokenize dictionary where the key is the punctuation and the value is the token\n",
    "    \"\"\"\n",
    "    # TODO: Implement Function\n",
    "    return {'--': '||long_dash||',\n",
    "                ',': '||comma||',\n",
    "                '.': '||period||',\n",
    "                '(': '||left_paren||',\n",
    "                ')': '||right_paren||',\n",
    "                ';': '||semicolon||',\n",
    "                '?': '||question||',\n",
    "                '\\n': '||new_line||',\n",
    "                '\"': '||double_quote||',\n",
    "                '!': '||exclamation||'\n",
    "           }\n",
    "\n",
    "\n",
    "\"\"\"\n",
    "DON'T MODIFY ANYTHING IN THIS CELL THAT IS BELOW THIS LINE\n",
    "\"\"\"\n",
    "tests.test_tokenize(token_lookup)"
   ]
  },
  {
   "cell_type": "markdown",
   "metadata": {},
   "source": [
    "## Preprocess all the data and save it\n",
    "Running the code cell below will preprocess all the data and save it to file."
   ]
  },
  {
   "cell_type": "code",
   "execution_count": 5,
   "metadata": {
    "collapsed": true
   },
   "outputs": [],
   "source": [
    "\"\"\"\n",
    "DON'T MODIFY ANYTHING IN THIS CELL\n",
    "\"\"\"\n",
    "# Preprocess Training, Validation, and Testing Data\n",
    "helper.preprocess_and_save_data(data_dir, token_lookup, create_lookup_tables)"
   ]
  },
  {
   "cell_type": "markdown",
   "metadata": {},
   "source": [
    "# Check Point\n",
    "This is your first checkpoint. If you ever decide to come back to this notebook or have to restart the notebook, you can start from here. The preprocessed data has been saved to disk."
   ]
  },
  {
   "cell_type": "code",
   "execution_count": 6,
   "metadata": {
    "collapsed": true
   },
   "outputs": [],
   "source": [
    "\"\"\"\n",
    "DON'T MODIFY ANYTHING IN THIS CELL\n",
    "\"\"\"\n",
    "import helper\n",
    "import numpy as np\n",
    "import problem_unittests as tests\n",
    "\n",
    "int_text, vocab_to_int, int_to_vocab, token_dict = helper.load_preprocess()"
   ]
  },
  {
   "cell_type": "markdown",
   "metadata": {},
   "source": [
    "## Build the Neural Network\n",
    "You'll build the components necessary to build a RNN by implementing the following functions below:\n",
    "- get_inputs\n",
    "- get_init_cell\n",
    "- get_embed\n",
    "- build_rnn\n",
    "- build_nn\n",
    "- get_batches\n",
    "\n",
    "### Check the Version of TensorFlow and Access to GPU"
   ]
  },
  {
   "cell_type": "code",
   "execution_count": 7,
   "metadata": {},
   "outputs": [
    {
     "name": "stdout",
     "output_type": "stream",
     "text": [
      "TensorFlow Version: 1.0.0\n"
     ]
    },
    {
     "name": "stderr",
     "output_type": "stream",
     "text": [
      "D:\\Anaconda3\\envs\\tensorflow1.0\\lib\\site-packages\\ipykernel_launcher.py:14: UserWarning: No GPU found. Please use a GPU to train your neural network.\n",
      "  \n"
     ]
    }
   ],
   "source": [
    "\"\"\"\n",
    "DON'T MODIFY ANYTHING IN THIS CELL\n",
    "\"\"\"\n",
    "from distutils.version import LooseVersion\n",
    "import warnings\n",
    "import tensorflow as tf\n",
    "\n",
    "# Check TensorFlow Version\n",
    "assert LooseVersion(tf.__version__) >= LooseVersion('1.0'), 'Please use TensorFlow version 1.0 or newer'\n",
    "print('TensorFlow Version: {}'.format(tf.__version__))\n",
    "\n",
    "# Check for a GPU\n",
    "if not tf.test.gpu_device_name():\n",
    "    warnings.warn('No GPU found. Please use a GPU to train your neural network.')\n",
    "else:\n",
    "    print('Default GPU Device: {}'.format(tf.test.gpu_device_name()))"
   ]
  },
  {
   "cell_type": "markdown",
   "metadata": {},
   "source": [
    "### Input\n",
    "Implement the `get_inputs()` function to create TF Placeholders for the Neural Network.  It should create the following placeholders:\n",
    "- Input text placeholder named \"input\" using the [TF Placeholder](https://www.tensorflow.org/api_docs/python/tf/placeholder) `name` parameter.\n",
    "- Targets placeholder\n",
    "- Learning Rate placeholder\n",
    "\n",
    "Return the placeholders in the following tuple `(Input, Targets, LearningRate)`"
   ]
  },
  {
   "cell_type": "code",
   "execution_count": 8,
   "metadata": {},
   "outputs": [
    {
     "name": "stdout",
     "output_type": "stream",
     "text": [
      "Tests Passed\n"
     ]
    }
   ],
   "source": [
    "def get_inputs():\n",
    "    \"\"\"\n",
    "    Create TF Placeholders for input, targets, and learning rate.\n",
    "    :return: Tuple (input, targets, learning rate)\n",
    "    \"\"\"\n",
    "    # TODO: Implement Function\n",
    "    Inputs = tf.placeholder(tf.int32, [None, None], name='input')\n",
    "    Targets = tf.placeholder(tf.int32, [None, None], name='targets')\n",
    "    Learning_rate = tf.placeholder(tf.float32, name='learning_rate')\n",
    "    return (Inputs, Targets, Learning_rate)\n",
    "\n",
    "\n",
    "\"\"\"\n",
    "DON'T MODIFY ANYTHING IN THIS CELL THAT IS BELOW THIS LINE\n",
    "\"\"\"\n",
    "tests.test_get_inputs(get_inputs)"
   ]
  },
  {
   "cell_type": "markdown",
   "metadata": {},
   "source": [
    "### Build RNN Cell and Initialize\n",
    "Stack one or more [`BasicLSTMCells`](https://www.tensorflow.org/api_docs/python/tf/contrib/rnn/BasicLSTMCell) in a [`MultiRNNCell`](https://www.tensorflow.org/api_docs/python/tf/contrib/rnn/MultiRNNCell).\n",
    "- The Rnn size should be set using `rnn_size`\n",
    "- Initalize Cell State using the MultiRNNCell's [`zero_state()`](https://www.tensorflow.org/api_docs/python/tf/contrib/rnn/MultiRNNCell#zero_state) function\n",
    "    - Apply the name \"initial_state\" to the initial state using [`tf.identity()`](https://www.tensorflow.org/api_docs/python/tf/identity)\n",
    "\n",
    "Return the cell and initial state in the following tuple `(Cell, InitialState)`"
   ]
  },
  {
   "cell_type": "code",
   "execution_count": 9,
   "metadata": {},
   "outputs": [
    {
     "name": "stdout",
     "output_type": "stream",
     "text": [
      "Tests Passed\n"
     ]
    }
   ],
   "source": [
    "def get_init_cell(batch_size, rnn_size):\n",
    "    \"\"\"\n",
    "    Create an RNN Cell and initialize it.\n",
    "    :param batch_size: Size of batches\n",
    "    :param rnn_size: Size of RNNs\n",
    "    :return: Tuple (cell, initialize state)\n",
    "    \"\"\"\n",
    "    # TODO: Implement Function\n",
    "    lstm = tf.contrib.rnn.BasicLSTMCell(rnn_size)\n",
    "    cell = tf.contrib.rnn.MultiRNNCell([lstm, lstm])\n",
    "    \n",
    "    initial_state = cell.zero_state(batch_size, tf.float32)\n",
    "    initial_state = tf.identity(initial_state, name= \"initial_state\")\n",
    "    return (cell, initial_state)\n",
    "\n",
    "\"\"\"\n",
    "DON'T MODIFY ANYTHING IN THIS CELL THAT IS BELOW THIS LINE\n",
    "\"\"\"\n",
    "tests.test_get_init_cell(get_init_cell)"
   ]
  },
  {
   "cell_type": "markdown",
   "metadata": {},
   "source": [
    "### Word Embedding\n",
    "Apply embedding to `input_data` using TensorFlow.  Return the embedded sequence."
   ]
  },
  {
   "cell_type": "code",
   "execution_count": 10,
   "metadata": {},
   "outputs": [
    {
     "name": "stdout",
     "output_type": "stream",
     "text": [
      "Tests Passed\n"
     ]
    }
   ],
   "source": [
    "def get_embed(input_data, vocab_size, embed_dim):\n",
    "    \"\"\"\n",
    "    Create embedding for <input_data>.\n",
    "    :param input_data: TF placeholder for text input.\n",
    "    :param vocab_size: Number of words in vocabulary.\n",
    "    :param embed_dim: Number of embedding dimensions\n",
    "    :return: Embedded input.\n",
    "    \"\"\"\n",
    "    # TODO: Implement Function\n",
    "    return tf.contrib.layers.embed_sequence(input_data, vocab_size=vocab_size, embed_dim=embed_dim)\n",
    "\n",
    "\n",
    "\n",
    "\"\"\"\n",
    "DON'T MODIFY ANYTHING IN THIS CELL THAT IS BELOW THIS LINE\n",
    "\"\"\"\n",
    "tests.test_get_embed(get_embed)"
   ]
  },
  {
   "cell_type": "markdown",
   "metadata": {},
   "source": [
    "### Build RNN\n",
    "You created a RNN Cell in the `get_init_cell()` function.  Time to use the cell to create a RNN.\n",
    "- Build the RNN using the [`tf.nn.dynamic_rnn()`](https://www.tensorflow.org/api_docs/python/tf/nn/dynamic_rnn)\n",
    " - Apply the name \"final_state\" to the final state using [`tf.identity()`](https://www.tensorflow.org/api_docs/python/tf/identity)\n",
    "\n",
    "Return the outputs and final_state state in the following tuple `(Outputs, FinalState)` "
   ]
  },
  {
   "cell_type": "code",
   "execution_count": 11,
   "metadata": {},
   "outputs": [
    {
     "name": "stdout",
     "output_type": "stream",
     "text": [
      "Tests Passed\n"
     ]
    }
   ],
   "source": [
    "def build_rnn(cell, inputs):\n",
    "    \"\"\"\n",
    "    Create a RNN using a RNN Cell\n",
    "    :param cell: RNN Cell\n",
    "    :param inputs: Input text data\n",
    "    :return: Tuple (Outputs, Final State)\n",
    "    \"\"\"\n",
    "    # TODO: Implement Function\n",
    "    Outputs, Final_state = tf.nn.dynamic_rnn(cell, inputs, dtype='float32')\n",
    "    Final_state = tf.identity(Final_state, name=\"final_state\")\n",
    "    return (Outputs, Final_state)\n",
    "\n",
    "\n",
    "\n",
    "\"\"\"\n",
    "DON'T MODIFY ANYTHING IN THIS CELL THAT IS BELOW THIS LINE\n",
    "\"\"\"\n",
    "tests.test_build_rnn(build_rnn)"
   ]
  },
  {
   "cell_type": "markdown",
   "metadata": {},
   "source": [
    "### Build the Neural Network\n",
    "Apply the functions you implemented above to:\n",
    "- Apply embedding to `input_data` using your `get_embed(input_data, vocab_size, embed_dim)` function.\n",
    "- Build RNN using `cell` and your `build_rnn(cell, inputs)` function.\n",
    "- Apply a fully connected layer with a linear activation and `vocab_size` as the number of outputs.\n",
    "\n",
    "Return the logits and final state in the following tuple (Logits, FinalState) "
   ]
  },
  {
   "cell_type": "code",
   "execution_count": 14,
   "metadata": {},
   "outputs": [
    {
     "name": "stdout",
     "output_type": "stream",
     "text": [
      "Tests Passed\n"
     ]
    }
   ],
   "source": [
    "def build_nn(cell, rnn_size, input_data, vocab_size):\n",
    "    \"\"\"\n",
    "    Build part of the neural network\n",
    "    :param cell: RNN cell\n",
    "    :param rnn_size: Size of rnns\n",
    "    :param input_data: Input data\n",
    "    :param vocab_size: Vocabulary size\n",
    "    :param embed_dim: Number of embedding dimensions\n",
    "    :return: Tuple (Logits, FinalState)\n",
    "    \"\"\"\n",
    "    # TODO: Implement Function\n",
    "    embed_dim = 200\n",
    "    inputs = get_embed(input_data, vocab_size, embed_dim)\n",
    "    outputs, Final_state = build_rnn(cell, inputs)\n",
    "    Logits = tf.contrib.layers.fully_connected(outputs, vocab_size, activation_fn=None)\n",
    "    return (Logits, Final_state)\n",
    "\n",
    "\n",
    "\"\"\"\n",
    "DON'T MODIFY ANYTHING IN THIS CELL THAT IS BELOW THIS LINE\n",
    "\"\"\"\n",
    "tests.test_build_nn(build_nn)"
   ]
  },
  {
   "cell_type": "markdown",
   "metadata": {},
   "source": [
    "### Batches\n",
    "Implement `get_batches` to create batches of input and targets using `int_text`.  The batches should be a Numpy array with the shape `(number of batches, 2, batch size, sequence length)`. Each batch contains two elements:\n",
    "- The first element is a single batch of **input** with the shape `[batch size, sequence length]`\n",
    "- The second element is a single batch of **targets** with the shape `[batch size, sequence length]`\n",
    "\n",
    "If you can't fill the last batch with enough data, drop the last batch.\n",
    "\n",
    "For exmple, `get_batches([1, 2, 3, 4, 5, 6, 7, 8, 9, 10, 11, 12, 13, 14, 15], 2, 3)` would return a Numpy array of the following:\n",
    "```\n",
    "[\n",
    "  # First Batch\n",
    "  [\n",
    "    # Batch of Input\n",
    "    [[ 1  2  3], [ 7  8  9]],\n",
    "    # Batch of targets\n",
    "    [[ 2  3  4], [ 8  9 10]]\n",
    "  ],\n",
    " \n",
    "  # Second Batch\n",
    "  [\n",
    "    # Batch of Input\n",
    "    [[ 4  5  6], [10 11 12]],\n",
    "    # Batch of targets\n",
    "    [[ 5  6  7], [11 12 13]]\n",
    "  ]\n",
    "]\n",
    "```"
   ]
  },
  {
   "cell_type": "code",
   "execution_count": 15,
   "metadata": {},
   "outputs": [
    {
     "name": "stdout",
     "output_type": "stream",
     "text": [
      "Tests Passed\n"
     ]
    }
   ],
   "source": [
    "def get_batches(int_text, batch_size, seq_length):\n",
    "    \"\"\"\n",
    "    Return batches of input and target\n",
    "    :param int_text: Text with the words replaced by their ids\n",
    "    :param batch_size: The size of batch\n",
    "    :param seq_length: The length of sequence\n",
    "    :return: Batches as a Numpy array\n",
    "    \"\"\"\n",
    "    # TODO: Implement Function\n",
    "    characters_batch = batch_size * seq_length \n",
    "    num_batches = len(int_text)//(characters_batch) \n",
    "\n",
    "    input_data = np.array(int_text[ : (num_batches * characters_batch)])\n",
    "    target_data = np.array(int_text[1 : (num_batches * characters_batch)] + [int_text[0]])\n",
    "    inputs = input_data.reshape(batch_size, -1)\n",
    "    targets = target_data.reshape(batch_size, -1)\n",
    "    inputs = np.split(inputs, num_batches, 1) \n",
    "    targets = np.split(targets, num_batches, 1)\n",
    "    \n",
    "    batches = np.array(list(zip(inputs, targets)))\n",
    "    batches = batches.reshape(num_batches, 2, batch_size, seq_length)\n",
    "    return batches\n",
    "\n",
    "\n",
    "\"\"\"\n",
    "DON'T MODIFY ANYTHING IN THIS CELL THAT IS BELOW THIS LINE\n",
    "\"\"\"\n",
    "tests.test_get_batches(get_batches)"
   ]
  },
  {
   "cell_type": "markdown",
   "metadata": {},
   "source": [
    "## Neural Network Training\n",
    "### Hyperparameters\n",
    "Tune the following parameters:\n",
    "\n",
    "- Set `num_epochs` to the number of epochs.\n",
    "- Set `batch_size` to the batch size.\n",
    "- Set `rnn_size` to the size of the RNNs.\n",
    "- Set `embed_dim` to the size of the embedding.\n",
    "- Set `seq_length` to the length of sequence.\n",
    "- Set `learning_rate` to the learning rate.\n",
    "- Set `show_every_n_batches` to the number of batches the neural network should print progress."
   ]
  },
  {
   "cell_type": "code",
   "execution_count": 27,
   "metadata": {
    "collapsed": true
   },
   "outputs": [],
   "source": [
    "# Number of Epochs\n",
    "num_epochs = 80\n",
    "# Batch Size\n",
    "batch_size = 150\n",
    "# RNN Size\n",
    "rnn_size = 256\n",
    "# Sequence Length\n",
    "seq_length = 20\n",
    "# Learning Rate\n",
    "learning_rate = 0.01\n",
    "# Show stats for every n number of batches\n",
    "show_every_n_batches = 5\n",
    "\n",
    "\"\"\"\n",
    "DON'T MODIFY ANYTHING IN THIS CELL THAT IS BELOW THIS LINE\n",
    "\"\"\"\n",
    "save_dir = './save'"
   ]
  },
  {
   "cell_type": "markdown",
   "metadata": {},
   "source": [
    "### Build the Graph\n",
    "Build the graph using the neural network you implemented."
   ]
  },
  {
   "cell_type": "code",
   "execution_count": 28,
   "metadata": {
    "collapsed": true
   },
   "outputs": [],
   "source": [
    "\"\"\"\n",
    "DON'T MODIFY ANYTHING IN THIS CELL\n",
    "\"\"\"\n",
    "from tensorflow.contrib import seq2seq\n",
    "\n",
    "train_graph = tf.Graph()\n",
    "with train_graph.as_default():\n",
    "    vocab_size = len(int_to_vocab)\n",
    "    input_text, targets, lr = get_inputs()\n",
    "    input_data_shape = tf.shape(input_text)\n",
    "    cell, initial_state = get_init_cell(input_data_shape[0], rnn_size)\n",
    "    logits, final_state = build_nn(cell, rnn_size, input_text, vocab_size)\n",
    "\n",
    "    # Probabilities for generating words\n",
    "    probs = tf.nn.softmax(logits, name='probs')\n",
    "\n",
    "    # Loss function\n",
    "    cost = seq2seq.sequence_loss(\n",
    "        logits,\n",
    "        targets,\n",
    "        tf.ones([input_data_shape[0], input_data_shape[1]]))\n",
    "\n",
    "    # Optimizer\n",
    "    optimizer = tf.train.AdamOptimizer(lr)\n",
    "\n",
    "    # Gradient Clipping\n",
    "    gradients = optimizer.compute_gradients(cost)\n",
    "    capped_gradients = [(tf.clip_by_value(grad, -1., 1.), var) for grad, var in gradients if grad is not None]\n",
    "    train_op = optimizer.apply_gradients(capped_gradients)"
   ]
  },
  {
   "cell_type": "markdown",
   "metadata": {},
   "source": [
    "## Train\n",
    "Train the neural network on the preprocessed data.  If you have a hard time getting a good loss, check the [forms](https://discussions.udacity.com/) to see if anyone is having the same problem."
   ]
  },
  {
   "cell_type": "code",
   "execution_count": 29,
   "metadata": {},
   "outputs": [
    {
     "name": "stdout",
     "output_type": "stream",
     "text": [
      "Epoch   0 Batch    0/23   train_loss = 8.822\n",
      "Epoch   0 Batch    5/23   train_loss = 6.672\n",
      "Epoch   0 Batch   10/23   train_loss = 6.826\n",
      "Epoch   0 Batch   15/23   train_loss = 6.826\n",
      "Epoch   0 Batch   20/23   train_loss = 6.800\n",
      "Epoch   1 Batch    2/23   train_loss = 6.456\n",
      "Epoch   1 Batch    7/23   train_loss = 6.124\n",
      "Epoch   1 Batch   12/23   train_loss = 6.207\n",
      "Epoch   1 Batch   17/23   train_loss = 6.175\n",
      "Epoch   1 Batch   22/23   train_loss = 6.261\n",
      "Epoch   2 Batch    4/23   train_loss = 6.253\n",
      "Epoch   2 Batch    9/23   train_loss = 6.155\n",
      "Epoch   2 Batch   14/23   train_loss = 6.160\n",
      "Epoch   2 Batch   19/23   train_loss = 6.329\n",
      "Epoch   3 Batch    1/23   train_loss = 6.278\n",
      "Epoch   3 Batch    6/23   train_loss = 6.104\n",
      "Epoch   3 Batch   11/23   train_loss = 6.095\n",
      "Epoch   3 Batch   16/23   train_loss = 6.188\n",
      "Epoch   3 Batch   21/23   train_loss = 6.061\n",
      "Epoch   4 Batch    3/23   train_loss = 5.912\n",
      "Epoch   4 Batch    8/23   train_loss = 5.874\n",
      "Epoch   4 Batch   13/23   train_loss = 5.888\n",
      "Epoch   4 Batch   18/23   train_loss = 5.941\n",
      "Epoch   5 Batch    0/23   train_loss = 5.902\n",
      "Epoch   5 Batch    5/23   train_loss = 5.821\n",
      "Epoch   5 Batch   10/23   train_loss = 5.792\n",
      "Epoch   5 Batch   15/23   train_loss = 5.572\n",
      "Epoch   5 Batch   20/23   train_loss = 5.504\n",
      "Epoch   6 Batch    2/23   train_loss = 5.366\n",
      "Epoch   6 Batch    7/23   train_loss = 5.211\n",
      "Epoch   6 Batch   12/23   train_loss = 5.157\n",
      "Epoch   6 Batch   17/23   train_loss = 5.009\n",
      "Epoch   6 Batch   22/23   train_loss = 5.058\n",
      "Epoch   7 Batch    4/23   train_loss = 4.912\n",
      "Epoch   7 Batch    9/23   train_loss = 4.830\n",
      "Epoch   7 Batch   14/23   train_loss = 4.704\n",
      "Epoch   7 Batch   19/23   train_loss = 4.812\n",
      "Epoch   8 Batch    1/23   train_loss = 4.766\n",
      "Epoch   8 Batch    6/23   train_loss = 4.723\n",
      "Epoch   8 Batch   11/23   train_loss = 4.656\n",
      "Epoch   8 Batch   16/23   train_loss = 4.726\n",
      "Epoch   8 Batch   21/23   train_loss = 4.587\n",
      "Epoch   9 Batch    3/23   train_loss = 4.499\n",
      "Epoch   9 Batch    8/23   train_loss = 4.440\n",
      "Epoch   9 Batch   13/23   train_loss = 4.436\n",
      "Epoch   9 Batch   18/23   train_loss = 4.497\n",
      "Epoch  10 Batch    0/23   train_loss = 4.442\n",
      "Epoch  10 Batch    5/23   train_loss = 4.397\n",
      "Epoch  10 Batch   10/23   train_loss = 4.390\n",
      "Epoch  10 Batch   15/23   train_loss = 4.341\n",
      "Epoch  10 Batch   20/23   train_loss = 4.305\n",
      "Epoch  11 Batch    2/23   train_loss = 4.316\n",
      "Epoch  11 Batch    7/23   train_loss = 4.197\n",
      "Epoch  11 Batch   12/23   train_loss = 4.226\n",
      "Epoch  11 Batch   17/23   train_loss = 4.166\n",
      "Epoch  11 Batch   22/23   train_loss = 4.206\n",
      "Epoch  12 Batch    4/23   train_loss = 4.093\n",
      "Epoch  12 Batch    9/23   train_loss = 4.077\n",
      "Epoch  12 Batch   14/23   train_loss = 3.966\n",
      "Epoch  12 Batch   19/23   train_loss = 4.035\n",
      "Epoch  13 Batch    1/23   train_loss = 4.033\n",
      "Epoch  13 Batch    6/23   train_loss = 4.016\n",
      "Epoch  13 Batch   11/23   train_loss = 3.952\n",
      "Epoch  13 Batch   16/23   train_loss = 4.025\n",
      "Epoch  13 Batch   21/23   train_loss = 3.908\n",
      "Epoch  14 Batch    3/23   train_loss = 3.886\n",
      "Epoch  14 Batch    8/23   train_loss = 3.808\n",
      "Epoch  14 Batch   13/23   train_loss = 3.842\n",
      "Epoch  14 Batch   18/23   train_loss = 3.800\n",
      "Epoch  15 Batch    0/23   train_loss = 3.800\n",
      "Epoch  15 Batch    5/23   train_loss = 3.828\n",
      "Epoch  15 Batch   10/23   train_loss = 3.822\n",
      "Epoch  15 Batch   15/23   train_loss = 3.783\n",
      "Epoch  15 Batch   20/23   train_loss = 3.712\n",
      "Epoch  16 Batch    2/23   train_loss = 3.728\n",
      "Epoch  16 Batch    7/23   train_loss = 3.664\n",
      "Epoch  16 Batch   12/23   train_loss = 3.748\n",
      "Epoch  16 Batch   17/23   train_loss = 3.622\n",
      "Epoch  16 Batch   22/23   train_loss = 3.673\n",
      "Epoch  17 Batch    4/23   train_loss = 3.593\n",
      "Epoch  17 Batch    9/23   train_loss = 3.588\n",
      "Epoch  17 Batch   14/23   train_loss = 3.459\n",
      "Epoch  17 Batch   19/23   train_loss = 3.500\n",
      "Epoch  18 Batch    1/23   train_loss = 3.526\n",
      "Epoch  18 Batch    6/23   train_loss = 3.485\n",
      "Epoch  18 Batch   11/23   train_loss = 3.394\n",
      "Epoch  18 Batch   16/23   train_loss = 3.449\n",
      "Epoch  18 Batch   21/23   train_loss = 3.416\n",
      "Epoch  19 Batch    3/23   train_loss = 3.412\n",
      "Epoch  19 Batch    8/23   train_loss = 3.333\n",
      "Epoch  19 Batch   13/23   train_loss = 3.269\n",
      "Epoch  19 Batch   18/23   train_loss = 3.230\n",
      "Epoch  20 Batch    0/23   train_loss = 3.258\n",
      "Epoch  20 Batch    5/23   train_loss = 3.316\n",
      "Epoch  20 Batch   10/23   train_loss = 3.205\n",
      "Epoch  20 Batch   15/23   train_loss = 3.199\n",
      "Epoch  20 Batch   20/23   train_loss = 3.167\n",
      "Epoch  21 Batch    2/23   train_loss = 3.194\n",
      "Epoch  21 Batch    7/23   train_loss = 3.171\n",
      "Epoch  21 Batch   12/23   train_loss = 3.216\n",
      "Epoch  21 Batch   17/23   train_loss = 3.059\n",
      "Epoch  21 Batch   22/23   train_loss = 3.141\n",
      "Epoch  22 Batch    4/23   train_loss = 3.067\n",
      "Epoch  22 Batch    9/23   train_loss = 3.091\n",
      "Epoch  22 Batch   14/23   train_loss = 2.933\n",
      "Epoch  22 Batch   19/23   train_loss = 2.900\n",
      "Epoch  23 Batch    1/23   train_loss = 2.983\n",
      "Epoch  23 Batch    6/23   train_loss = 2.944\n",
      "Epoch  23 Batch   11/23   train_loss = 2.909\n",
      "Epoch  23 Batch   16/23   train_loss = 2.886\n",
      "Epoch  23 Batch   21/23   train_loss = 2.855\n",
      "Epoch  24 Batch    3/23   train_loss = 2.924\n",
      "Epoch  24 Batch    8/23   train_loss = 2.832\n",
      "Epoch  24 Batch   13/23   train_loss = 2.808\n",
      "Epoch  24 Batch   18/23   train_loss = 2.710\n",
      "Epoch  25 Batch    0/23   train_loss = 2.706\n",
      "Epoch  25 Batch    5/23   train_loss = 2.799\n",
      "Epoch  25 Batch   10/23   train_loss = 2.718\n",
      "Epoch  25 Batch   15/23   train_loss = 2.719\n",
      "Epoch  25 Batch   20/23   train_loss = 2.671\n",
      "Epoch  26 Batch    2/23   train_loss = 2.678\n",
      "Epoch  26 Batch    7/23   train_loss = 2.694\n",
      "Epoch  26 Batch   12/23   train_loss = 2.727\n",
      "Epoch  26 Batch   17/23   train_loss = 2.606\n",
      "Epoch  26 Batch   22/23   train_loss = 2.619\n",
      "Epoch  27 Batch    4/23   train_loss = 2.535\n",
      "Epoch  27 Batch    9/23   train_loss = 2.636\n",
      "Epoch  27 Batch   14/23   train_loss = 2.492\n",
      "Epoch  27 Batch   19/23   train_loss = 2.425\n",
      "Epoch  28 Batch    1/23   train_loss = 2.477\n",
      "Epoch  28 Batch    6/23   train_loss = 2.453\n",
      "Epoch  28 Batch   11/23   train_loss = 2.456\n",
      "Epoch  28 Batch   16/23   train_loss = 2.417\n",
      "Epoch  28 Batch   21/23   train_loss = 2.417\n",
      "Epoch  29 Batch    3/23   train_loss = 2.503\n",
      "Epoch  29 Batch    8/23   train_loss = 2.383\n",
      "Epoch  29 Batch   13/23   train_loss = 2.386\n",
      "Epoch  29 Batch   18/23   train_loss = 2.273\n",
      "Epoch  30 Batch    0/23   train_loss = 2.294\n",
      "Epoch  30 Batch    5/23   train_loss = 2.357\n",
      "Epoch  30 Batch   10/23   train_loss = 2.265\n",
      "Epoch  30 Batch   15/23   train_loss = 2.293\n",
      "Epoch  30 Batch   20/23   train_loss = 2.296\n",
      "Epoch  31 Batch    2/23   train_loss = 2.296\n",
      "Epoch  31 Batch    7/23   train_loss = 2.287\n",
      "Epoch  31 Batch   12/23   train_loss = 2.318\n",
      "Epoch  31 Batch   17/23   train_loss = 2.202\n",
      "Epoch  31 Batch   22/23   train_loss = 2.252\n",
      "Epoch  32 Batch    4/23   train_loss = 2.146\n",
      "Epoch  32 Batch    9/23   train_loss = 2.247\n",
      "Epoch  32 Batch   14/23   train_loss = 2.147\n",
      "Epoch  32 Batch   19/23   train_loss = 2.064\n",
      "Epoch  33 Batch    1/23   train_loss = 2.123\n",
      "Epoch  33 Batch    6/23   train_loss = 2.068\n",
      "Epoch  33 Batch   11/23   train_loss = 2.110\n",
      "Epoch  33 Batch   16/23   train_loss = 2.059\n",
      "Epoch  33 Batch   21/23   train_loss = 2.055\n",
      "Epoch  34 Batch    3/23   train_loss = 2.123\n",
      "Epoch  34 Batch    8/23   train_loss = 2.029\n",
      "Epoch  34 Batch   13/23   train_loss = 2.041\n",
      "Epoch  34 Batch   18/23   train_loss = 1.968\n",
      "Epoch  35 Batch    0/23   train_loss = 1.952\n",
      "Epoch  35 Batch    5/23   train_loss = 1.989\n",
      "Epoch  35 Batch   10/23   train_loss = 1.937\n",
      "Epoch  35 Batch   15/23   train_loss = 1.946\n",
      "Epoch  35 Batch   20/23   train_loss = 1.961\n",
      "Epoch  36 Batch    2/23   train_loss = 1.928\n",
      "Epoch  36 Batch    7/23   train_loss = 1.925\n",
      "Epoch  36 Batch   12/23   train_loss = 1.995\n",
      "Epoch  36 Batch   17/23   train_loss = 1.909\n",
      "Epoch  36 Batch   22/23   train_loss = 1.920\n",
      "Epoch  37 Batch    4/23   train_loss = 1.816\n",
      "Epoch  37 Batch    9/23   train_loss = 1.919\n",
      "Epoch  37 Batch   14/23   train_loss = 1.848\n",
      "Epoch  37 Batch   19/23   train_loss = 1.771\n",
      "Epoch  38 Batch    1/23   train_loss = 1.833\n",
      "Epoch  38 Batch    6/23   train_loss = 1.786\n",
      "Epoch  38 Batch   11/23   train_loss = 1.804\n",
      "Epoch  38 Batch   16/23   train_loss = 1.750\n",
      "Epoch  38 Batch   21/23   train_loss = 1.819\n",
      "Epoch  39 Batch    3/23   train_loss = 1.821\n",
      "Epoch  39 Batch    8/23   train_loss = 1.757\n",
      "Epoch  39 Batch   13/23   train_loss = 1.748\n"
     ]
    },
    {
     "name": "stdout",
     "output_type": "stream",
     "text": [
      "Epoch  39 Batch   18/23   train_loss = 1.643\n",
      "Epoch  40 Batch    0/23   train_loss = 1.704\n",
      "Epoch  40 Batch    5/23   train_loss = 1.683\n",
      "Epoch  40 Batch   10/23   train_loss = 1.671\n",
      "Epoch  40 Batch   15/23   train_loss = 1.642\n",
      "Epoch  40 Batch   20/23   train_loss = 1.618\n",
      "Epoch  41 Batch    2/23   train_loss = 1.674\n",
      "Epoch  41 Batch    7/23   train_loss = 1.629\n",
      "Epoch  41 Batch   12/23   train_loss = 1.739\n",
      "Epoch  41 Batch   17/23   train_loss = 1.591\n",
      "Epoch  41 Batch   22/23   train_loss = 1.660\n",
      "Epoch  42 Batch    4/23   train_loss = 1.536\n",
      "Epoch  42 Batch    9/23   train_loss = 1.640\n",
      "Epoch  42 Batch   14/23   train_loss = 1.605\n",
      "Epoch  42 Batch   19/23   train_loss = 1.471\n",
      "Epoch  43 Batch    1/23   train_loss = 1.594\n",
      "Epoch  43 Batch    6/23   train_loss = 1.518\n",
      "Epoch  43 Batch   11/23   train_loss = 1.565\n",
      "Epoch  43 Batch   16/23   train_loss = 1.537\n",
      "Epoch  43 Batch   21/23   train_loss = 1.550\n",
      "Epoch  44 Batch    3/23   train_loss = 1.608\n",
      "Epoch  44 Batch    8/23   train_loss = 1.512\n",
      "Epoch  44 Batch   13/23   train_loss = 1.602\n",
      "Epoch  44 Batch   18/23   train_loss = 1.466\n",
      "Epoch  45 Batch    0/23   train_loss = 1.490\n",
      "Epoch  45 Batch    5/23   train_loss = 1.511\n",
      "Epoch  45 Batch   10/23   train_loss = 1.415\n",
      "Epoch  45 Batch   15/23   train_loss = 1.505\n",
      "Epoch  45 Batch   20/23   train_loss = 1.467\n",
      "Epoch  46 Batch    2/23   train_loss = 1.520\n",
      "Epoch  46 Batch    7/23   train_loss = 1.490\n",
      "Epoch  46 Batch   12/23   train_loss = 1.492\n",
      "Epoch  46 Batch   17/23   train_loss = 1.483\n",
      "Epoch  46 Batch   22/23   train_loss = 1.512\n",
      "Epoch  47 Batch    4/23   train_loss = 1.388\n",
      "Epoch  47 Batch    9/23   train_loss = 1.492\n",
      "Epoch  47 Batch   14/23   train_loss = 1.402\n",
      "Epoch  47 Batch   19/23   train_loss = 1.371\n",
      "Epoch  48 Batch    1/23   train_loss = 1.385\n",
      "Epoch  48 Batch    6/23   train_loss = 1.374\n",
      "Epoch  48 Batch   11/23   train_loss = 1.374\n",
      "Epoch  48 Batch   16/23   train_loss = 1.327\n",
      "Epoch  48 Batch   21/23   train_loss = 1.397\n",
      "Epoch  49 Batch    3/23   train_loss = 1.386\n",
      "Epoch  49 Batch    8/23   train_loss = 1.326\n",
      "Epoch  49 Batch   13/23   train_loss = 1.310\n",
      "Epoch  49 Batch   18/23   train_loss = 1.240\n",
      "Epoch  50 Batch    0/23   train_loss = 1.275\n",
      "Epoch  50 Batch    5/23   train_loss = 1.288\n",
      "Epoch  50 Batch   10/23   train_loss = 1.221\n",
      "Epoch  50 Batch   15/23   train_loss = 1.197\n",
      "Epoch  50 Batch   20/23   train_loss = 1.258\n",
      "Epoch  51 Batch    2/23   train_loss = 1.254\n",
      "Epoch  51 Batch    7/23   train_loss = 1.228\n",
      "Epoch  51 Batch   12/23   train_loss = 1.236\n",
      "Epoch  51 Batch   17/23   train_loss = 1.172\n",
      "Epoch  51 Batch   22/23   train_loss = 1.243\n",
      "Epoch  52 Batch    4/23   train_loss = 1.121\n",
      "Epoch  52 Batch    9/23   train_loss = 1.258\n",
      "Epoch  52 Batch   14/23   train_loss = 1.163\n",
      "Epoch  52 Batch   19/23   train_loss = 1.095\n",
      "Epoch  53 Batch    1/23   train_loss = 1.154\n",
      "Epoch  53 Batch    6/23   train_loss = 1.105\n",
      "Epoch  53 Batch   11/23   train_loss = 1.137\n",
      "Epoch  53 Batch   16/23   train_loss = 1.105\n",
      "Epoch  53 Batch   21/23   train_loss = 1.144\n",
      "Epoch  54 Batch    3/23   train_loss = 1.138\n",
      "Epoch  54 Batch    8/23   train_loss = 1.108\n",
      "Epoch  54 Batch   13/23   train_loss = 1.150\n",
      "Epoch  54 Batch   18/23   train_loss = 1.066\n",
      "Epoch  55 Batch    0/23   train_loss = 1.089\n",
      "Epoch  55 Batch    5/23   train_loss = 1.077\n",
      "Epoch  55 Batch   10/23   train_loss = 1.040\n",
      "Epoch  55 Batch   15/23   train_loss = 1.096\n",
      "Epoch  55 Batch   20/23   train_loss = 1.063\n",
      "Epoch  56 Batch    2/23   train_loss = 1.082\n",
      "Epoch  56 Batch    7/23   train_loss = 1.027\n",
      "Epoch  56 Batch   12/23   train_loss = 1.112\n",
      "Epoch  56 Batch   17/23   train_loss = 1.049\n",
      "Epoch  56 Batch   22/23   train_loss = 1.064\n",
      "Epoch  57 Batch    4/23   train_loss = 0.984\n",
      "Epoch  57 Batch    9/23   train_loss = 1.033\n",
      "Epoch  57 Batch   14/23   train_loss = 1.038\n",
      "Epoch  57 Batch   19/23   train_loss = 0.923\n",
      "Epoch  58 Batch    1/23   train_loss = 1.002\n",
      "Epoch  58 Batch    6/23   train_loss = 0.954\n",
      "Epoch  58 Batch   11/23   train_loss = 0.954\n",
      "Epoch  58 Batch   16/23   train_loss = 0.955\n",
      "Epoch  58 Batch   21/23   train_loss = 0.954\n",
      "Epoch  59 Batch    3/23   train_loss = 0.977\n",
      "Epoch  59 Batch    8/23   train_loss = 0.958\n",
      "Epoch  59 Batch   13/23   train_loss = 0.930\n",
      "Epoch  59 Batch   18/23   train_loss = 0.891\n",
      "Epoch  60 Batch    0/23   train_loss = 0.881\n",
      "Epoch  60 Batch    5/23   train_loss = 0.896\n",
      "Epoch  60 Batch   10/23   train_loss = 0.861\n",
      "Epoch  60 Batch   15/23   train_loss = 0.823\n",
      "Epoch  60 Batch   20/23   train_loss = 0.857\n",
      "Epoch  61 Batch    2/23   train_loss = 0.860\n",
      "Epoch  61 Batch    7/23   train_loss = 0.841\n",
      "Epoch  61 Batch   12/23   train_loss = 0.851\n",
      "Epoch  61 Batch   17/23   train_loss = 0.829\n",
      "Epoch  61 Batch   22/23   train_loss = 0.866\n",
      "Epoch  62 Batch    4/23   train_loss = 0.742\n",
      "Epoch  62 Batch    9/23   train_loss = 0.828\n",
      "Epoch  62 Batch   14/23   train_loss = 0.790\n",
      "Epoch  62 Batch   19/23   train_loss = 0.729\n",
      "Epoch  63 Batch    1/23   train_loss = 0.789\n",
      "Epoch  63 Batch    6/23   train_loss = 0.738\n",
      "Epoch  63 Batch   11/23   train_loss = 0.751\n",
      "Epoch  63 Batch   16/23   train_loss = 0.732\n",
      "Epoch  63 Batch   21/23   train_loss = 0.757\n",
      "Epoch  64 Batch    3/23   train_loss = 0.784\n",
      "Epoch  64 Batch    8/23   train_loss = 0.756\n",
      "Epoch  64 Batch   13/23   train_loss = 0.715\n",
      "Epoch  64 Batch   18/23   train_loss = 0.684\n",
      "Epoch  65 Batch    0/23   train_loss = 0.687\n",
      "Epoch  65 Batch    5/23   train_loss = 0.700\n",
      "Epoch  65 Batch   10/23   train_loss = 0.673\n",
      "Epoch  65 Batch   15/23   train_loss = 0.655\n",
      "Epoch  65 Batch   20/23   train_loss = 0.667\n",
      "Epoch  66 Batch    2/23   train_loss = 0.672\n",
      "Epoch  66 Batch    7/23   train_loss = 0.663\n",
      "Epoch  66 Batch   12/23   train_loss = 0.692\n",
      "Epoch  66 Batch   17/23   train_loss = 0.649\n",
      "Epoch  66 Batch   22/23   train_loss = 0.691\n",
      "Epoch  67 Batch    4/23   train_loss = 0.585\n",
      "Epoch  67 Batch    9/23   train_loss = 0.666\n",
      "Epoch  67 Batch   14/23   train_loss = 0.641\n",
      "Epoch  67 Batch   19/23   train_loss = 0.572\n",
      "Epoch  68 Batch    1/23   train_loss = 0.642\n",
      "Epoch  68 Batch    6/23   train_loss = 0.595\n",
      "Epoch  68 Batch   11/23   train_loss = 0.613\n",
      "Epoch  68 Batch   16/23   train_loss = 0.594\n",
      "Epoch  68 Batch   21/23   train_loss = 0.605\n",
      "Epoch  69 Batch    3/23   train_loss = 0.622\n",
      "Epoch  69 Batch    8/23   train_loss = 0.610\n",
      "Epoch  69 Batch   13/23   train_loss = 0.584\n",
      "Epoch  69 Batch   18/23   train_loss = 0.561\n",
      "Epoch  70 Batch    0/23   train_loss = 0.564\n",
      "Epoch  70 Batch    5/23   train_loss = 0.569\n",
      "Epoch  70 Batch   10/23   train_loss = 0.571\n",
      "Epoch  70 Batch   15/23   train_loss = 0.560\n",
      "Epoch  70 Batch   20/23   train_loss = 0.558\n",
      "Epoch  71 Batch    2/23   train_loss = 0.563\n",
      "Epoch  71 Batch    7/23   train_loss = 0.557\n",
      "Epoch  71 Batch   12/23   train_loss = 0.591\n",
      "Epoch  71 Batch   17/23   train_loss = 0.558\n",
      "Epoch  71 Batch   22/23   train_loss = 0.577\n",
      "Epoch  72 Batch    4/23   train_loss = 0.509\n",
      "Epoch  72 Batch    9/23   train_loss = 0.554\n",
      "Epoch  72 Batch   14/23   train_loss = 0.560\n",
      "Epoch  72 Batch   19/23   train_loss = 0.508\n",
      "Epoch  73 Batch    1/23   train_loss = 0.523\n",
      "Epoch  73 Batch    6/23   train_loss = 0.506\n",
      "Epoch  73 Batch   11/23   train_loss = 0.536\n",
      "Epoch  73 Batch   16/23   train_loss = 0.513\n",
      "Epoch  73 Batch   21/23   train_loss = 0.521\n",
      "Epoch  74 Batch    3/23   train_loss = 0.542\n",
      "Epoch  74 Batch    8/23   train_loss = 0.534\n",
      "Epoch  74 Batch   13/23   train_loss = 0.513\n",
      "Epoch  74 Batch   18/23   train_loss = 0.486\n",
      "Epoch  75 Batch    0/23   train_loss = 0.472\n",
      "Epoch  75 Batch    5/23   train_loss = 0.505\n",
      "Epoch  75 Batch   10/23   train_loss = 0.469\n",
      "Epoch  75 Batch   15/23   train_loss = 0.485\n",
      "Epoch  75 Batch   20/23   train_loss = 0.464\n",
      "Epoch  76 Batch    2/23   train_loss = 0.480\n",
      "Epoch  76 Batch    7/23   train_loss = 0.493\n",
      "Epoch  76 Batch   12/23   train_loss = 0.496\n",
      "Epoch  76 Batch   17/23   train_loss = 0.485\n",
      "Epoch  76 Batch   22/23   train_loss = 0.486\n",
      "Epoch  77 Batch    4/23   train_loss = 0.429\n",
      "Epoch  77 Batch    9/23   train_loss = 0.490\n",
      "Epoch  77 Batch   14/23   train_loss = 0.477\n",
      "Epoch  77 Batch   19/23   train_loss = 0.442\n",
      "Epoch  78 Batch    1/23   train_loss = 0.462\n",
      "Epoch  78 Batch    6/23   train_loss = 0.442\n",
      "Epoch  78 Batch   11/23   train_loss = 0.460\n",
      "Epoch  78 Batch   16/23   train_loss = 0.455\n",
      "Epoch  78 Batch   21/23   train_loss = 0.458\n",
      "Epoch  79 Batch    3/23   train_loss = 0.464\n",
      "Epoch  79 Batch    8/23   train_loss = 0.458\n"
     ]
    },
    {
     "name": "stdout",
     "output_type": "stream",
     "text": [
      "Epoch  79 Batch   13/23   train_loss = 0.432\n",
      "Epoch  79 Batch   18/23   train_loss = 0.415\n",
      "Model Trained and Saved\n"
     ]
    }
   ],
   "source": [
    "\"\"\"\n",
    "DON'T MODIFY ANYTHING IN THIS CELL\n",
    "\"\"\"\n",
    "batches = get_batches(int_text, batch_size, seq_length)\n",
    "\n",
    "with tf.Session(graph=train_graph) as sess:\n",
    "    sess.run(tf.global_variables_initializer())\n",
    "\n",
    "    for epoch_i in range(num_epochs):\n",
    "        state = sess.run(initial_state, {input_text: batches[0][0]})\n",
    "\n",
    "        for batch_i, (x, y) in enumerate(batches):\n",
    "            feed = {\n",
    "                input_text: x,\n",
    "                targets: y,\n",
    "                initial_state: state,\n",
    "                lr: learning_rate}\n",
    "            train_loss, state, _ = sess.run([cost, final_state, train_op], feed)\n",
    "\n",
    "            # Show every <show_every_n_batches> batches\n",
    "            if (epoch_i * len(batches) + batch_i) % show_every_n_batches == 0:\n",
    "                print('Epoch {:>3} Batch {:>4}/{}   train_loss = {:.3f}'.format(\n",
    "                    epoch_i,\n",
    "                    batch_i,\n",
    "                    len(batches),\n",
    "                    train_loss))\n",
    "\n",
    "    # Save Model\n",
    "    saver = tf.train.Saver()\n",
    "    saver.save(sess, save_dir)\n",
    "    print('Model Trained and Saved')"
   ]
  },
  {
   "cell_type": "code",
   "execution_count": 2,
   "metadata": {},
   "outputs": [
    {
     "ename": "NameError",
     "evalue": "name 'save_dir' is not defined",
     "output_type": "error",
     "traceback": [
      "\u001b[1;31m---------------------------------------------------------------------------\u001b[0m",
      "\u001b[1;31mNameError\u001b[0m                                 Traceback (most recent call last)",
      "\u001b[1;32m<ipython-input-2-29c6f9921306>\u001b[0m in \u001b[0;36m<module>\u001b[1;34m()\u001b[0m\n\u001b[1;32m----> 1\u001b[1;33m \u001b[0msave_dir\u001b[0m\u001b[1;33m\u001b[0m\u001b[0m\n\u001b[0m",
      "\u001b[1;31mNameError\u001b[0m: name 'save_dir' is not defined"
     ]
    }
   ],
   "source": [
    "save_dir"
   ]
  },
  {
   "cell_type": "markdown",
   "metadata": {},
   "source": [
    "## Save Parameters\n",
    "Save `seq_length` and `save_dir` for generating a new TV script."
   ]
  },
  {
   "cell_type": "code",
   "execution_count": 30,
   "metadata": {
    "collapsed": true
   },
   "outputs": [],
   "source": [
    "\"\"\"\n",
    "DON'T MODIFY ANYTHING IN THIS CELL\n",
    "\"\"\"\n",
    "# Save parameters for checkpoint\n",
    "helper.save_params((seq_length, save_dir))"
   ]
  },
  {
   "cell_type": "markdown",
   "metadata": {},
   "source": [
    "# Checkpoint"
   ]
  },
  {
   "cell_type": "code",
   "execution_count": 31,
   "metadata": {
    "collapsed": true
   },
   "outputs": [],
   "source": [
    "\"\"\"\n",
    "DON'T MODIFY ANYTHING IN THIS CELL\n",
    "\"\"\"\n",
    "import tensorflow as tf\n",
    "import numpy as np\n",
    "import helper\n",
    "import problem_unittests as tests\n",
    "\n",
    "_, vocab_to_int, int_to_vocab, token_dict = helper.load_preprocess()\n",
    "seq_length, load_dir = helper.load_params()"
   ]
  },
  {
   "cell_type": "markdown",
   "metadata": {},
   "source": [
    "## Implement Generate Functions\n",
    "### Get Tensors\n",
    "Get tensors from `loaded_graph` using the function [`get_tensor_by_name()`](https://www.tensorflow.org/api_docs/python/tf/Graph#get_tensor_by_name).  Get the tensors using the following names:\n",
    "- \"input:0\"\n",
    "- \"initial_state:0\"\n",
    "- \"final_state:0\"\n",
    "- \"probs:0\"\n",
    "\n",
    "Return the tensors in the following tuple `(InputTensor, InitialStateTensor, FinalStateTensor, ProbsTensor)` "
   ]
  },
  {
   "cell_type": "code",
   "execution_count": 32,
   "metadata": {},
   "outputs": [
    {
     "name": "stdout",
     "output_type": "stream",
     "text": [
      "Tests Passed\n"
     ]
    }
   ],
   "source": [
    "def get_tensors(loaded_graph):\n",
    "    \"\"\"\n",
    "    Get input, initial state, final state, and probabilities tensor from <loaded_graph>\n",
    "    :param loaded_graph: TensorFlow graph loaded from file\n",
    "    :return: Tuple (InputTensor, InitialStateTensor, FinalStateTensor, ProbsTensor)\n",
    "    \"\"\"\n",
    "    # TODO: Implement Function\n",
    "    Input_tensor = loaded_graph.get_tensor_by_name(\"input:0\")\n",
    "    Initial_State_Tensor = loaded_graph.get_tensor_by_name(\"initial_state:0\")\n",
    "    Final_State_Tensor = loaded_graph.get_tensor_by_name(\"final_state:0\")\n",
    "    Probs_Tensor = loaded_graph.get_tensor_by_name(\"probs:0\")\n",
    "    \n",
    "    return (Input_tensor, Initial_State_Tensor, Final_State_Tensor, Probs_Tensor)\n",
    "\n",
    "\n",
    "\"\"\"\n",
    "DON'T MODIFY ANYTHING IN THIS CELL THAT IS BELOW THIS LINE\n",
    "\"\"\"\n",
    "tests.test_get_tensors(get_tensors)"
   ]
  },
  {
   "cell_type": "markdown",
   "metadata": {},
   "source": [
    "### Choose Word\n",
    "Implement the `pick_word()` function to select the next word using `probabilities`."
   ]
  },
  {
   "cell_type": "code",
   "execution_count": 33,
   "metadata": {},
   "outputs": [
    {
     "name": "stdout",
     "output_type": "stream",
     "text": [
      "Tests Passed\n"
     ]
    }
   ],
   "source": [
    "def pick_word(probabilities, int_to_vocab):\n",
    "    \"\"\"\n",
    "    Pick the next word in the generated text\n",
    "    :param probabilities: Probabilites of the next word\n",
    "    :param int_to_vocab: Dictionary of word ids as the keys and words as the values\n",
    "    :return: String of the predicted word\n",
    "    \"\"\"\n",
    "    # TODO: Implement Function\n",
    "    max_id=np.argmax(probabilities)\n",
    "    return int_to_vocab[max_id]\n",
    "\n",
    "\n",
    "\"\"\"\n",
    "DON'T MODIFY ANYTHING IN THIS CELL THAT IS BELOW THIS LINE\n",
    "\"\"\"\n",
    "tests.test_pick_word(pick_word)"
   ]
  },
  {
   "cell_type": "markdown",
   "metadata": {},
   "source": [
    "## Generate TV Script\n",
    "This will generate the TV script for you.  Set `gen_length` to the length of TV script you want to generate."
   ]
  },
  {
   "cell_type": "code",
   "execution_count": 34,
   "metadata": {},
   "outputs": [
    {
     "name": "stdout",
     "output_type": "stream",
     "text": [
      "moe_szyslak:(while poking, friendly) so, hey, did you see the game last night?\n",
      "\n",
      "\n",
      "moe_szyslak: hey, it's not in the car, huh? let's see you look at you\" when you get that grand. i lost my thesaurus.\n",
      "kent_brockman:(to moe) you mean, uh, s'cuse me.\n",
      "\n",
      "\n",
      "moe_szyslak: gentlemen, guys. i love you, lenny.\n",
      "moe_szyslak: compliments, moe. i went to this bar like that these would put this.(to do) all right, you can take him a wallet at a romantic.\n",
      "lisa_simpson: that's the kind of accident.\n",
      "apu_nahasapeemapetilon: well... well, well, guys. i'll stay out with our focus scene.\n",
      "lenny_leonard:(to self, dramatic) the man is us.\n",
      "kent_brockman:(amazed) singer, artist, look at me. and i prepared i did is just like to have to see a beer and take it.\n",
      "lenny_leonard: that's not?\n",
      "moe_szyslak: yeah, sure.\n",
      "jacques: my kid\n"
     ]
    }
   ],
   "source": [
    "gen_length = 200\n",
    "# homer_simpson, moe_szyslak, or Barney_Gumble\n",
    "prime_word = 'moe_szyslak'\n",
    "\n",
    "\"\"\"\n",
    "DON'T MODIFY ANYTHING IN THIS CELL THAT IS BELOW THIS LINE\n",
    "\"\"\"\n",
    "loaded_graph = tf.Graph()\n",
    "with tf.Session(graph=loaded_graph) as sess:\n",
    "    # Load saved model\n",
    "    loader = tf.train.import_meta_graph(load_dir + '.meta')\n",
    "    loader.restore(sess, load_dir)\n",
    "\n",
    "    # Get Tensors from loaded model\n",
    "    input_text, initial_state, final_state, probs = get_tensors(loaded_graph)\n",
    "\n",
    "    # Sentences generation setup\n",
    "    gen_sentences = [prime_word + ':']\n",
    "    prev_state = sess.run(initial_state, {input_text: np.array([[1]])})\n",
    "\n",
    "    # Generate sentences\n",
    "    for n in range(gen_length):\n",
    "        # Dynamic Input\n",
    "        dyn_input = [[vocab_to_int[word] for word in gen_sentences[-seq_length:]]]\n",
    "        dyn_seq_length = len(dyn_input[0])\n",
    "\n",
    "        # Get Prediction\n",
    "        probabilities, prev_state = sess.run(\n",
    "            [probs, final_state],\n",
    "            {input_text: dyn_input, initial_state: prev_state})\n",
    "        \n",
    "        pred_word = pick_word(probabilities[dyn_seq_length-1], int_to_vocab)\n",
    "\n",
    "        gen_sentences.append(pred_word)\n",
    "    \n",
    "    # Remove tokens\n",
    "    tv_script = ' '.join(gen_sentences)\n",
    "    for key, token in token_dict.items():\n",
    "        ending = ' ' if key in ['\\n', '(', '\"'] else ''\n",
    "        tv_script = tv_script.replace(' ' + token.lower(), key)\n",
    "    tv_script = tv_script.replace('\\n ', '\\n')\n",
    "    tv_script = tv_script.replace('( ', '(')\n",
    "        \n",
    "    print(tv_script)"
   ]
  },
  {
   "cell_type": "markdown",
   "metadata": {},
   "source": [
    "# The TV Script is Nonsensical\n",
    "It's ok if the TV script doesn't make any sense.  We trained on less than a megabyte of text.  In order to get good results, you'll have to use a smaller vocabulary or get more data.  Luckly there's more data!  As we mentioned in the begging of this project, this is a subset of [another dataset](https://www.kaggle.com/wcukierski/the-simpsons-by-the-data).  We didn't have you train on all the data, because that would take too long.  However, you are free to train your neural network on all the data.  After you complete the project, of course.\n",
    "# Submitting This Project\n",
    "When submitting this project, make sure to run all the cells before saving the notebook. Save the notebook file as \"dlnd_tv_script_generation.ipynb\" and save it as a HTML file under \"File\" -> \"Download as\". Include the \"helper.py\" and \"problem_unittests.py\" files in your submission."
   ]
  }
 ],
 "metadata": {
  "kernelspec": {
   "display_name": "Python 3",
   "language": "python",
   "name": "python3"
  },
  "language_info": {
   "codemirror_mode": {
    "name": "ipython",
    "version": 3
   },
   "file_extension": ".py",
   "mimetype": "text/x-python",
   "name": "python",
   "nbconvert_exporter": "python",
   "pygments_lexer": "ipython3",
   "version": "3.6.3"
  },
  "widgets": {
   "state": {},
   "version": "1.1.2"
  }
 },
 "nbformat": 4,
 "nbformat_minor": 1
}
